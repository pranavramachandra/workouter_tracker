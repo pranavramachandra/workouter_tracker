{
 "cells": [
  {
   "cell_type": "code",
   "execution_count": 1,
   "metadata": {},
   "outputs": [],
   "source": [
    "from datetime import datetime, timedelta\n",
    "import numpy as np\n",
    "import pandas as pd"
   ]
  },
  {
   "cell_type": "code",
   "execution_count": 24,
   "metadata": {},
   "outputs": [],
   "source": [
    "calendar_dict = {\"Sunday\": 0,\n",
    "                \"Monday\": 1,\n",
    "                \"Tuesday\": 2,\n",
    "                \"Wednesday\": 3,\n",
    "                \"Thursday\": 4,\n",
    "                \"Friday\": 5,\n",
    "                \"Saturday\": 6\n",
    "                }\n",
    "\n",
    "def get_first_day_of_the_month(dt):\n",
    "    orig_dt = dt\n",
    "    while dt.month == orig_dt.month:\n",
    "        dt = dt - timedelta(days = 1)\n",
    "    return dt + timedelta(days = 1)\n",
    "\n",
    "def generate_week(dt_list, dt):\n",
    "    orig_dt = dt\n",
    "    if dt_list == []:\n",
    "        dt = dt + timedelta(days = 1)\n",
    "        while len(dt_list) < 7 and dt.month == orig_dt.month:\n",
    "            dt_list.append(Day(dt = dt, completed_workouts=[]))\n",
    "            dt = dt + timedelta(days = 1)\n",
    "    else:\n",
    "        while (dt.strftime(\"%A\") != 'Sunday' or dt_list == []) and dt.month == orig_dt.month:\n",
    "            dt_list.append(Day(dt = dt, completed_workouts= []))\n",
    "            dt = dt + timedelta(days = 1)\n",
    "        while len(dt_list) < 7:\n",
    "            dt_list.append(None)\n",
    "    return dt_list, dt_list[-1].dt\n",
    "\n",
    "def generate_calendar(dt):\n",
    "    calendar, orig_dt = [], dt\n",
    "    current_day = get_first_day_of_the_month(dt)\n",
    "    first_week = [None for d in range(calendar_dict[current_day.strftime(\"%A\")])]\n",
    "    first_week, current_day = generate_week(first_week, current_day)\n",
    "    calendar.append(first_week)\n",
    "\n",
    "    while (current_day + timedelta(days = 1)).month == orig_dt.month:\n",
    "        new_week, current_day = generate_week([], current_day)\n",
    "        calendar.append(new_week)\n",
    "\n",
    "    return calendar\n",
    "\n",
    "class Calendar:\n",
    "\n",
    "    def __init__(self, user_id, dt) -> None:\n",
    "        self.dt = dt\n",
    "        self.user_id = user_id\n",
    "        self.calendar = generate_calendar(dt = dt)\n",
    "\n",
    "class Day:\n",
    "    def __init__(self, completed_workouts, dt) -> None:\n",
    "        self.dt = dt\n",
    "        self.completed_workouts = completed_workouts\n",
    "    \n",
    "    def __repr__(self) -> str:\n",
    "        return f'{self.dt.strftime(\"%A\")}, {self.dt.month} {self.dt.day}'"
   ]
  },
  {
   "cell_type": "code",
   "execution_count": 25,
   "metadata": {},
   "outputs": [],
   "source": [
    "cal = Calendar(user_id = 1, dt = datetime.now())"
   ]
  },
  {
   "cell_type": "code",
   "execution_count": 26,
   "metadata": {},
   "outputs": [
    {
     "data": {
      "text/plain": [
       "[[None,\n",
       "  Monday, 1 1,\n",
       "  Tuesday, 1 2,\n",
       "  Wednesday, 1 3,\n",
       "  Thursday, 1 4,\n",
       "  Friday, 1 5,\n",
       "  Saturday, 1 6],\n",
       " [Sunday, 1 7,\n",
       "  Monday, 1 8,\n",
       "  Tuesday, 1 9,\n",
       "  Wednesday, 1 10,\n",
       "  Thursday, 1 11,\n",
       "  Friday, 1 12,\n",
       "  Saturday, 1 13],\n",
       " [Sunday, 1 14,\n",
       "  Monday, 1 15,\n",
       "  Tuesday, 1 16,\n",
       "  Wednesday, 1 17,\n",
       "  Thursday, 1 18,\n",
       "  Friday, 1 19,\n",
       "  Saturday, 1 20],\n",
       " [Sunday, 1 21,\n",
       "  Monday, 1 22,\n",
       "  Tuesday, 1 23,\n",
       "  Wednesday, 1 24,\n",
       "  Thursday, 1 25,\n",
       "  Friday, 1 26,\n",
       "  Saturday, 1 27],\n",
       " [Sunday, 1 28, Monday, 1 29, Tuesday, 1 30, Wednesday, 1 31]]"
      ]
     },
     "execution_count": 26,
     "metadata": {},
     "output_type": "execute_result"
    }
   ],
   "source": [
    "cal.calendar"
   ]
  },
  {
   "cell_type": "code",
   "execution_count": 19,
   "metadata": {},
   "outputs": [
    {
     "name": "stdout",
     "output_type": "stream",
     "text": [
      "Friday\n"
     ]
    }
   ],
   "source": [
    "from datetime import datetime, timedelta\n",
    "\n",
    "# Get the current date and time\n",
    "now = datetime.now()\n",
    "\n",
    "# Calculate the datetime for yesterday\n",
    "yesterday = now - timedelta(days=1)\n",
    "\n",
    "print(yesterday.strftime('%A'))\n"
   ]
  },
  {
   "cell_type": "code",
   "execution_count": 42,
   "metadata": {},
   "outputs": [
    {
     "data": {
      "text/plain": [
       "datetime.datetime(2024, 1, 1, 13, 44, 55, 817370)"
      ]
     },
     "execution_count": 42,
     "metadata": {},
     "output_type": "execute_result"
    }
   ],
   "source": [
    "def get_first_day_of_the_month(dt):\n",
    "    while dt.month == datetime.now().month:\n",
    "        dt = dt - timedelta(days = 1)\n",
    "    return dt + timedelta(days = 1)\n",
    "    \n",
    "\n",
    "bruh = get_first_day_of_the_month(datetime.now())\n",
    "bruh"
   ]
  },
  {
   "cell_type": "code",
   "execution_count": 43,
   "metadata": {},
   "outputs": [
    {
     "data": {
      "text/plain": [
       "'Monday'"
      ]
     },
     "execution_count": 43,
     "metadata": {},
     "output_type": "execute_result"
    }
   ],
   "source": [
    "bruh.strftime('%A')"
   ]
  },
  {
   "cell_type": "code",
   "execution_count": null,
   "metadata": {},
   "outputs": [],
   "source": [
    "\"\"\"\n",
    "[\n",
    "[None, 1, 2, 3, 4, 5, 6]\n",
    "[7, 8, 9, 10, 11, 12, 13]\n",
    "...\n",
    "]\n",
    "\"\"\""
   ]
  },
  {
   "cell_type": "code",
   "execution_count": 115,
   "metadata": {},
   "outputs": [],
   "source": [
    "calendar_dict = {\"Sunday\": 0,\n",
    "                    \"Monday\": 1,\n",
    "                    \"Tuesday\": 2,\n",
    "                    \"Wednesday\": 3,\n",
    "                    \"Thursday\": 4,\n",
    "                    \"Friday\": 5,\n",
    "                    \"Saturday\": 6\n",
    "                    }\n",
    "\n",
    "def generate_calendar(dt):\n",
    "    calendar = []\n",
    "    current_day = get_first_day_of_the_month(dt)\n",
    "    first_week = [0 for d in range(calendar_dict[current_day.strftime(\"%A\")])]\n",
    "    first_week, current_day = generate_week(first_week, current_day)\n",
    "    calendar.append(first_week)\n",
    "\n",
    "    while (current_day + timedelta(days = 1)).month == datetime.now().month:\n",
    "        new_week, current_day = generate_week([], current_day)\n",
    "        calendar.append(new_week)\n",
    "\n",
    "    return calendar, current_day\n",
    "\n",
    "def generate_week(dt_list, dt):\n",
    "    if dt_list == []:\n",
    "        while len(dt_list) < 8 and dt.month == datetime.now().month:\n",
    "            dt_list.append(dt)\n",
    "            dt = dt + timedelta(days = 1)\n",
    "    else:\n",
    "        while (dt.strftime(\"%A\") != 'Sunday' or dt_list == []) and dt.month == datetime.now().month:\n",
    "            dt_list.append(dt)\n",
    "            dt = dt + timedelta(days = 1)\n",
    "    return dt_list, dt_list[-1]"
   ]
  },
  {
   "cell_type": "code",
   "execution_count": 116,
   "metadata": {},
   "outputs": [
    {
     "data": {
      "text/plain": [
       "[[0,\n",
       "  datetime.datetime(2024, 1, 1, 14, 39, 48, 116688),\n",
       "  datetime.datetime(2024, 1, 2, 14, 39, 48, 116688),\n",
       "  datetime.datetime(2024, 1, 3, 14, 39, 48, 116688),\n",
       "  datetime.datetime(2024, 1, 4, 14, 39, 48, 116688),\n",
       "  datetime.datetime(2024, 1, 5, 14, 39, 48, 116688),\n",
       "  datetime.datetime(2024, 1, 6, 14, 39, 48, 116688)],\n",
       " [datetime.datetime(2024, 1, 6, 14, 39, 48, 116688),\n",
       "  datetime.datetime(2024, 1, 7, 14, 39, 48, 116688),\n",
       "  datetime.datetime(2024, 1, 8, 14, 39, 48, 116688),\n",
       "  datetime.datetime(2024, 1, 9, 14, 39, 48, 116688),\n",
       "  datetime.datetime(2024, 1, 10, 14, 39, 48, 116688),\n",
       "  datetime.datetime(2024, 1, 11, 14, 39, 48, 116688),\n",
       "  datetime.datetime(2024, 1, 12, 14, 39, 48, 116688),\n",
       "  datetime.datetime(2024, 1, 13, 14, 39, 48, 116688)],\n",
       " [datetime.datetime(2024, 1, 13, 14, 39, 48, 116688),\n",
       "  datetime.datetime(2024, 1, 14, 14, 39, 48, 116688),\n",
       "  datetime.datetime(2024, 1, 15, 14, 39, 48, 116688),\n",
       "  datetime.datetime(2024, 1, 16, 14, 39, 48, 116688),\n",
       "  datetime.datetime(2024, 1, 17, 14, 39, 48, 116688),\n",
       "  datetime.datetime(2024, 1, 18, 14, 39, 48, 116688),\n",
       "  datetime.datetime(2024, 1, 19, 14, 39, 48, 116688),\n",
       "  datetime.datetime(2024, 1, 20, 14, 39, 48, 116688)],\n",
       " [datetime.datetime(2024, 1, 20, 14, 39, 48, 116688),\n",
       "  datetime.datetime(2024, 1, 21, 14, 39, 48, 116688),\n",
       "  datetime.datetime(2024, 1, 22, 14, 39, 48, 116688),\n",
       "  datetime.datetime(2024, 1, 23, 14, 39, 48, 116688),\n",
       "  datetime.datetime(2024, 1, 24, 14, 39, 48, 116688),\n",
       "  datetime.datetime(2024, 1, 25, 14, 39, 48, 116688),\n",
       "  datetime.datetime(2024, 1, 26, 14, 39, 48, 116688),\n",
       "  datetime.datetime(2024, 1, 27, 14, 39, 48, 116688)],\n",
       " [datetime.datetime(2024, 1, 27, 14, 39, 48, 116688),\n",
       "  datetime.datetime(2024, 1, 28, 14, 39, 48, 116688),\n",
       "  datetime.datetime(2024, 1, 29, 14, 39, 48, 116688),\n",
       "  datetime.datetime(2024, 1, 30, 14, 39, 48, 116688),\n",
       "  datetime.datetime(2024, 1, 31, 14, 39, 48, 116688)]]"
      ]
     },
     "execution_count": 116,
     "metadata": {},
     "output_type": "execute_result"
    }
   ],
   "source": [
    "calendar, current_day = generate_calendar(datetime.now())\n",
    "\n",
    "calendar"
   ]
  },
  {
   "cell_type": "code",
   "execution_count": 109,
   "metadata": {},
   "outputs": [
    {
     "data": {
      "text/plain": [
       "[0,\n",
       " datetime.datetime(2024, 1, 1, 14, 36, 46, 524014),\n",
       " datetime.datetime(2024, 1, 2, 14, 36, 46, 524014),\n",
       " datetime.datetime(2024, 1, 3, 14, 36, 46, 524014),\n",
       " datetime.datetime(2024, 1, 4, 14, 36, 46, 524014),\n",
       " datetime.datetime(2024, 1, 5, 14, 36, 46, 524014),\n",
       " datetime.datetime(2024, 1, 6, 14, 36, 46, 524014)]"
      ]
     },
     "execution_count": 109,
     "metadata": {},
     "output_type": "execute_result"
    }
   ],
   "source": [
    "first_week, current_day = generate_calendar(datetime.now())\n",
    "first_week"
   ]
  },
  {
   "cell_type": "code",
   "execution_count": 114,
   "metadata": {},
   "outputs": [
    {
     "data": {
      "text/plain": [
       "[datetime.datetime(2024, 1, 27, 14, 36, 46, 524014),\n",
       " datetime.datetime(2024, 1, 28, 14, 36, 46, 524014),\n",
       " datetime.datetime(2024, 1, 29, 14, 36, 46, 524014),\n",
       " datetime.datetime(2024, 1, 30, 14, 36, 46, 524014),\n",
       " datetime.datetime(2024, 1, 31, 14, 36, 46, 524014)]"
      ]
     },
     "execution_count": 114,
     "metadata": {},
     "output_type": "execute_result"
    }
   ],
   "source": [
    "second_week, dt2 = generate_week([], current_day)\n",
    "\n",
    "third_week, dt3 = generate_week([], dt2)\n",
    "\n",
    "fourth_week, dt4 = generate_week([], dt3)\n",
    "\n",
    "fifth_week, dt5 = generate_week([], dt4)\n",
    "\n",
    "fifth_week"
   ]
  }
 ],
 "metadata": {
  "kernelspec": {
   "display_name": "notes_env",
   "language": "python",
   "name": "python3"
  },
  "language_info": {
   "codemirror_mode": {
    "name": "ipython",
    "version": 3
   },
   "file_extension": ".py",
   "mimetype": "text/x-python",
   "name": "python",
   "nbconvert_exporter": "python",
   "pygments_lexer": "ipython3",
   "version": "3.11.3"
  }
 },
 "nbformat": 4,
 "nbformat_minor": 2
}
