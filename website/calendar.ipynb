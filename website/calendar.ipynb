{
 "cells": [
  {
   "cell_type": "code",
   "execution_count": 1,
   "metadata": {},
   "outputs": [],
   "source": [
    "from datetime import datetime, timedelta\n",
    "import numpy as np\n",
    "import pandas as pd"
   ]
  },
  {
   "cell_type": "code",
   "execution_count": 41,
   "metadata": {},
   "outputs": [],
   "source": [
    "calendar_dict = {\"Sunday\": 0,\n",
    "                \"Monday\": 1,\n",
    "                \"Tuesday\": 2,\n",
    "                \"Wednesday\": 3,\n",
    "                \"Thursday\": 4,\n",
    "                \"Friday\": 5,\n",
    "                \"Saturday\": 6\n",
    "                }\n",
    "\n",
    "def get_first_day_of_the_month(dt):\n",
    "    orig_dt = dt\n",
    "    while dt.month == orig_dt.month:\n",
    "        dt = dt - timedelta(days = 1)\n",
    "    return dt + timedelta(days = 1)\n",
    "\n",
    "def generate_week(dt_list, dt):\n",
    "    orig_dt = dt\n",
    "    if dt_list == []:\n",
    "        dt = dt + timedelta(days = 1)\n",
    "        while len(dt_list) < 7 and dt.month == orig_dt.month:\n",
    "            dt_list.append(Day(dt = dt, completed_workouts=[]))\n",
    "            dt = dt + timedelta(days = 1)\n",
    "    else:\n",
    "        while (dt.strftime(\"%A\") != 'Sunday' or dt_list == []) and dt.month == orig_dt.month:\n",
    "            dt_list.append(Day(dt = dt, completed_workouts= []))\n",
    "            dt = dt + timedelta(days = 1)\n",
    "    return dt_list, dt_list[-1].dt\n",
    "\n",
    "def generate_calendar(dt):\n",
    "    calendar, orig_dt = [], dt\n",
    "    current_day = get_first_day_of_the_month(dt)\n",
    "    first_week = [None for d in range(calendar_dict[current_day.strftime(\"%A\")])]\n",
    "    first_week, current_day = generate_week(first_week, current_day)\n",
    "    calendar.append(first_week)\n",
    "\n",
    "    while (current_day + timedelta(days = 1)).month == orig_dt.month:\n",
    "        new_week, current_day = generate_week([], current_day)\n",
    "        while len(new_week) < 7:\n",
    "            new_week.append(None)\n",
    "        calendar.append(new_week)\n",
    "\n",
    "    return calendar\n",
    "\n",
    "class Calendar:\n",
    "\n",
    "    def __init__(self, user_id, dt) -> None:\n",
    "        self.dt = dt\n",
    "        self.user_id = user_id\n",
    "        self.calendar = generate_calendar(dt = dt)\n",
    "\n",
    "class Day:\n",
    "    def __init__(self, completed_workouts, dt) -> None:\n",
    "        self.dt = dt\n",
    "        self.completed_workouts = completed_workouts\n",
    "    \n",
    "    def __repr__(self) -> str:\n",
    "        return f'{self.dt.strftime(\"%A\")}, {self.dt.month} {self.dt.day}'"
   ]
  },
  {
   "cell_type": "code",
   "execution_count": 42,
   "metadata": {},
   "outputs": [],
   "source": [
    "cal = Calendar(user_id = 1, dt = datetime.now())"
   ]
  },
  {
   "cell_type": "code",
   "execution_count": 43,
   "metadata": {},
   "outputs": [
    {
     "data": {
      "text/plain": [
       "7"
      ]
     },
     "execution_count": 43,
     "metadata": {},
     "output_type": "execute_result"
    }
   ],
   "source": [
    "len(cal.calendar[-1])"
   ]
  },
  {
   "cell_type": "code",
   "execution_count": 19,
   "metadata": {},
   "outputs": [
    {
     "name": "stdout",
     "output_type": "stream",
     "text": [
      "Friday\n"
     ]
    }
   ],
   "source": [
    "from datetime import datetime, timedelta\n",
    "\n",
    "# Get the current date and time\n",
    "now = datetime.now()\n",
    "\n",
    "# Calculate the datetime for yesterday\n",
    "yesterday = now - timedelta(days=1)\n",
    "\n",
    "print(yesterday.strftime('%A'))\n"
   ]
  },
  {
   "cell_type": "code",
   "execution_count": 42,
   "metadata": {},
   "outputs": [
    {
     "data": {
      "text/plain": [
       "datetime.datetime(2024, 1, 1, 13, 44, 55, 817370)"
      ]
     },
     "execution_count": 42,
     "metadata": {},
     "output_type": "execute_result"
    }
   ],
   "source": [
    "def get_first_day_of_the_month(dt):\n",
    "    while dt.month == datetime.now().month:\n",
    "        dt = dt - timedelta(days = 1)\n",
    "    return dt + timedelta(days = 1)\n",
    "    \n",
    "\n",
    "bruh = get_first_day_of_the_month(datetime.now())\n",
    "bruh"
   ]
  },
  {
   "cell_type": "code",
   "execution_count": 43,
   "metadata": {},
   "outputs": [
    {
     "data": {
      "text/plain": [
       "'Monday'"
      ]
     },
     "execution_count": 43,
     "metadata": {},
     "output_type": "execute_result"
    }
   ],
   "source": [
    "bruh.strftime('%A')"
   ]
  },
  {
   "cell_type": "code",
   "execution_count": null,
   "metadata": {},
   "outputs": [],
   "source": [
    "\"\"\"\n",
    "[\n",
    "[None, 1, 2, 3, 4, 5, 6]\n",
    "[7, 8, 9, 10, 11, 12, 13]\n",
    "...\n",
    "]\n",
    "\"\"\""
   ]
  },
  {
   "cell_type": "code",
   "execution_count": 115,
   "metadata": {},
   "outputs": [],
   "source": [
    "calendar_dict = {\"Sunday\": 0,\n",
    "                    \"Monday\": 1,\n",
    "                    \"Tuesday\": 2,\n",
    "                    \"Wednesday\": 3,\n",
    "                    \"Thursday\": 4,\n",
    "                    \"Friday\": 5,\n",
    "                    \"Saturday\": 6\n",
    "                    }\n",
    "\n",
    "def generate_calendar(dt):\n",
    "    calendar = []\n",
    "    current_day = get_first_day_of_the_month(dt)\n",
    "    first_week = [0 for d in range(calendar_dict[current_day.strftime(\"%A\")])]\n",
    "    first_week, current_day = generate_week(first_week, current_day)\n",
    "    calendar.append(first_week)\n",
    "\n",
    "    while (current_day + timedelta(days = 1)).month == datetime.now().month:\n",
    "        new_week, current_day = generate_week([], current_day)\n",
    "        calendar.append(new_week)\n",
    "\n",
    "    return calendar, current_day\n",
    "\n",
    "def generate_week(dt_list, dt):\n",
    "    if dt_list == []:\n",
    "        while len(dt_list) < 8 and dt.month == datetime.now().month:\n",
    "            dt_list.append(dt)\n",
    "            dt = dt + timedelta(days = 1)\n",
    "    else:\n",
    "        while (dt.strftime(\"%A\") != 'Sunday' or dt_list == []) and dt.month == datetime.now().month:\n",
    "            dt_list.append(dt)\n",
    "            dt = dt + timedelta(days = 1)\n",
    "    return dt_list, dt_list[-1]"
   ]
  },
  {
   "cell_type": "code",
   "execution_count": 116,
   "metadata": {},
   "outputs": [
    {
     "data": {
      "text/plain": [
       "[[0,\n",
       "  datetime.datetime(2024, 1, 1, 14, 39, 48, 116688),\n",
       "  datetime.datetime(2024, 1, 2, 14, 39, 48, 116688),\n",
       "  datetime.datetime(2024, 1, 3, 14, 39, 48, 116688),\n",
       "  datetime.datetime(2024, 1, 4, 14, 39, 48, 116688),\n",
       "  datetime.datetime(2024, 1, 5, 14, 39, 48, 116688),\n",
       "  datetime.datetime(2024, 1, 6, 14, 39, 48, 116688)],\n",
       " [datetime.datetime(2024, 1, 6, 14, 39, 48, 116688),\n",
       "  datetime.datetime(2024, 1, 7, 14, 39, 48, 116688),\n",
       "  datetime.datetime(2024, 1, 8, 14, 39, 48, 116688),\n",
       "  datetime.datetime(2024, 1, 9, 14, 39, 48, 116688),\n",
       "  datetime.datetime(2024, 1, 10, 14, 39, 48, 116688),\n",
       "  datetime.datetime(2024, 1, 11, 14, 39, 48, 116688),\n",
       "  datetime.datetime(2024, 1, 12, 14, 39, 48, 116688),\n",
       "  datetime.datetime(2024, 1, 13, 14, 39, 48, 116688)],\n",
       " [datetime.datetime(2024, 1, 13, 14, 39, 48, 116688),\n",
       "  datetime.datetime(2024, 1, 14, 14, 39, 48, 116688),\n",
       "  datetime.datetime(2024, 1, 15, 14, 39, 48, 116688),\n",
       "  datetime.datetime(2024, 1, 16, 14, 39, 48, 116688),\n",
       "  datetime.datetime(2024, 1, 17, 14, 39, 48, 116688),\n",
       "  datetime.datetime(2024, 1, 18, 14, 39, 48, 116688),\n",
       "  datetime.datetime(2024, 1, 19, 14, 39, 48, 116688),\n",
       "  datetime.datetime(2024, 1, 20, 14, 39, 48, 116688)],\n",
       " [datetime.datetime(2024, 1, 20, 14, 39, 48, 116688),\n",
       "  datetime.datetime(2024, 1, 21, 14, 39, 48, 116688),\n",
       "  datetime.datetime(2024, 1, 22, 14, 39, 48, 116688),\n",
       "  datetime.datetime(2024, 1, 23, 14, 39, 48, 116688),\n",
       "  datetime.datetime(2024, 1, 24, 14, 39, 48, 116688),\n",
       "  datetime.datetime(2024, 1, 25, 14, 39, 48, 116688),\n",
       "  datetime.datetime(2024, 1, 26, 14, 39, 48, 116688),\n",
       "  datetime.datetime(2024, 1, 27, 14, 39, 48, 116688)],\n",
       " [datetime.datetime(2024, 1, 27, 14, 39, 48, 116688),\n",
       "  datetime.datetime(2024, 1, 28, 14, 39, 48, 116688),\n",
       "  datetime.datetime(2024, 1, 29, 14, 39, 48, 116688),\n",
       "  datetime.datetime(2024, 1, 30, 14, 39, 48, 116688),\n",
       "  datetime.datetime(2024, 1, 31, 14, 39, 48, 116688)]]"
      ]
     },
     "execution_count": 116,
     "metadata": {},
     "output_type": "execute_result"
    }
   ],
   "source": [
    "calendar, current_day = generate_calendar(datetime.now())\n",
    "\n",
    "calendar"
   ]
  },
  {
   "cell_type": "code",
   "execution_count": 109,
   "metadata": {},
   "outputs": [
    {
     "data": {
      "text/plain": [
       "[0,\n",
       " datetime.datetime(2024, 1, 1, 14, 36, 46, 524014),\n",
       " datetime.datetime(2024, 1, 2, 14, 36, 46, 524014),\n",
       " datetime.datetime(2024, 1, 3, 14, 36, 46, 524014),\n",
       " datetime.datetime(2024, 1, 4, 14, 36, 46, 524014),\n",
       " datetime.datetime(2024, 1, 5, 14, 36, 46, 524014),\n",
       " datetime.datetime(2024, 1, 6, 14, 36, 46, 524014)]"
      ]
     },
     "execution_count": 109,
     "metadata": {},
     "output_type": "execute_result"
    }
   ],
   "source": [
    "first_week, current_day = generate_calendar(datetime.now())\n",
    "first_week"
   ]
  },
  {
   "cell_type": "code",
   "execution_count": 114,
   "metadata": {},
   "outputs": [
    {
     "data": {
      "text/plain": [
       "[datetime.datetime(2024, 1, 27, 14, 36, 46, 524014),\n",
       " datetime.datetime(2024, 1, 28, 14, 36, 46, 524014),\n",
       " datetime.datetime(2024, 1, 29, 14, 36, 46, 524014),\n",
       " datetime.datetime(2024, 1, 30, 14, 36, 46, 524014),\n",
       " datetime.datetime(2024, 1, 31, 14, 36, 46, 524014)]"
      ]
     },
     "execution_count": 114,
     "metadata": {},
     "output_type": "execute_result"
    }
   ],
   "source": [
    "second_week, dt2 = generate_week([], current_day)\n",
    "\n",
    "third_week, dt3 = generate_week([], dt2)\n",
    "\n",
    "fourth_week, dt4 = generate_week([], dt3)\n",
    "\n",
    "fifth_week, dt5 = generate_week([], dt4)\n",
    "\n",
    "fifth_week"
   ]
  },
  {
   "cell_type": "code",
   "execution_count": 1,
   "metadata": {},
   "outputs": [],
   "source": [
    "class Data:\n",
    "    def __init__(self, name, lables, values):\n",
    "        self.name = name\n",
    "        self.labels = lables\n",
    "        self.values = values"
   ]
  },
  {
   "cell_type": "code",
   "execution_count": 7,
   "metadata": {},
   "outputs": [
    {
     "ename": "AttributeError",
     "evalue": "'Data' object has no attribute 'to_dict'",
     "output_type": "error",
     "traceback": [
      "\u001b[0;31m---------------------------------------------------------------------------\u001b[0m",
      "\u001b[0;31mAttributeError\u001b[0m                            Traceback (most recent call last)",
      "Cell \u001b[0;32mIn[7], line 12\u001b[0m\n\u001b[1;32m      8\u001b[0m datum2 \u001b[38;5;241m=\u001b[39m Data(\u001b[38;5;124m'\u001b[39m\u001b[38;5;124mbruh\u001b[39m\u001b[38;5;124m'\u001b[39m, [\u001b[38;5;241m0\u001b[39m, \u001b[38;5;241m1\u001b[39m, \u001b[38;5;241m2\u001b[39m], [\u001b[38;5;241m0\u001b[39m, \u001b[38;5;241m1\u001b[39m, \u001b[38;5;241m4\u001b[39m])\n\u001b[1;32m     10\u001b[0m bruh \u001b[38;5;241m=\u001b[39m [datum1, datum2]\n\u001b[0;32m---> 12\u001b[0m data_for_template \u001b[38;5;241m=\u001b[39m \u001b[43m[\u001b[49m\u001b[43mdata\u001b[49m\u001b[38;5;241;43m.\u001b[39;49m\u001b[43mto_dict\u001b[49m\u001b[43m(\u001b[49m\u001b[43m)\u001b[49m\u001b[43m \u001b[49m\u001b[38;5;28;43;01mfor\u001b[39;49;00m\u001b[43m \u001b[49m\u001b[43mdata\u001b[49m\u001b[43m \u001b[49m\u001b[38;5;129;43;01min\u001b[39;49;00m\u001b[43m \u001b[49m\u001b[43mbruh\u001b[49m\u001b[43m]\u001b[49m\n",
      "Cell \u001b[0;32mIn[7], line 12\u001b[0m, in \u001b[0;36m<listcomp>\u001b[0;34m(.0)\u001b[0m\n\u001b[1;32m      8\u001b[0m datum2 \u001b[38;5;241m=\u001b[39m Data(\u001b[38;5;124m'\u001b[39m\u001b[38;5;124mbruh\u001b[39m\u001b[38;5;124m'\u001b[39m, [\u001b[38;5;241m0\u001b[39m, \u001b[38;5;241m1\u001b[39m, \u001b[38;5;241m2\u001b[39m], [\u001b[38;5;241m0\u001b[39m, \u001b[38;5;241m1\u001b[39m, \u001b[38;5;241m4\u001b[39m])\n\u001b[1;32m     10\u001b[0m bruh \u001b[38;5;241m=\u001b[39m [datum1, datum2]\n\u001b[0;32m---> 12\u001b[0m data_for_template \u001b[38;5;241m=\u001b[39m [\u001b[43mdata\u001b[49m\u001b[38;5;241;43m.\u001b[39;49m\u001b[43mto_dict\u001b[49m() \u001b[38;5;28;01mfor\u001b[39;00m data \u001b[38;5;129;01min\u001b[39;00m bruh]\n",
      "\u001b[0;31mAttributeError\u001b[0m: 'Data' object has no attribute 'to_dict'"
     ]
    }
   ],
   "source": [
    "class Data:\n",
    "    def __init__(self, name, lables, values):\n",
    "        self.name = name\n",
    "        self.labels = lables\n",
    "        self.values = values\n",
    "\n",
    "datum1 = Data('bruh', [0, 1, 2], [0, 1, 4])\n",
    "datum2 = Data('bruh', [0, 1, 2], [0, 1, 4])\n",
    "\n",
    "bruh = [datum1, datum2]\n",
    "\n",
    "data_for_template = [data.to_dict() for data in bruh]"
   ]
  }
 ],
 "metadata": {
  "kernelspec": {
   "display_name": "notes_env",
   "language": "python",
   "name": "python3"
  },
  "language_info": {
   "codemirror_mode": {
    "name": "ipython",
    "version": 3
   },
   "file_extension": ".py",
   "mimetype": "text/x-python",
   "name": "python",
   "nbconvert_exporter": "python",
   "pygments_lexer": "ipython3",
   "version": "3.11.3"
  }
 },
 "nbformat": 4,
 "nbformat_minor": 2
}
