{
 "cells": [
  {
   "cell_type": "code",
   "execution_count": 2,
   "metadata": {},
   "outputs": [],
   "source": [
    "import pandas as pd\n",
    "import numpy as np\n",
    "import datetime\n",
    "\n",
    "from flask_sqlalchemy import SQLAlchemy\n",
    "from sqlalchemy.sql import func\n",
    "from datetime import datetime\n",
    "from flask_login import UserMixin\n",
    "from sqlalchemy.sql import func"
   ]
  },
  {
   "cell_type": "code",
   "execution_count": 3,
   "metadata": {},
   "outputs": [],
   "source": [
    "db = SQLAlchemy()  # Create a new SQLAlchemy instance\n",
    "\n",
    "split_workout = db.Table('split_workout',\n",
    "    db.Column('split_id', db.Integer, db.ForeignKey('split.id'), primary_key=True),\n",
    "    db.Column('workout_id', db.Integer, db.ForeignKey('workout.id'), primary_key=True)\n",
    ")\n",
    "\n",
    "class Note(db.Model):\n",
    "    id = db.Column(db.Integer, primary_key = True)\n",
    "    data = db.Column(db.String(10000))\n",
    "    date = db.Column(db.DateTime(timezone = True), default = func.now)\n",
    "    user_id = db.Column(db.Integer, db.ForeignKey('user.id'))\n",
    "\n",
    "class Workout(db.Model):\n",
    "    id = db.Column(db.Integer, primary_key=True)\n",
    "    workout_name = db.Column(db.String(10000))\n",
    "    num_movements = db.Column(db.Integer)\n",
    "    movements = db.relationship('Movement', backref='workout', lazy=True)\n",
    "    splits = db.relationship('Split', secondary=split_workout, backref=db.backref('workouts', lazy='dynamic'))\n",
    "    user_id = db.Column(db.Integer, db.ForeignKey('user.id'))  \n",
    "\n",
    "class Movement(db.Model):\n",
    "    id = db.Column(db.Integer, primary_key=True)\n",
    "    mov_name = db.Column(db.String(100))\n",
    "    reps = db.Column(db.Integer)\n",
    "    sets = db.Column(db.Integer)\n",
    "    workout_id = db.Column(db.Integer, db.ForeignKey('workout.id'))\n",
    "\n",
    "class Split(db.Model):\n",
    "    id = db.Column(db.Integer, primary_key=True)\n",
    "    split_name = db.Column(db.String(10000))\n",
    "    is_active = db.Column(db.Boolean)\n",
    "    # workouts = db.relationship('Workout', secondary=split_workout, lazy='dynamic', backref=db.backref('splits', lazy=True))\n",
    "    user_id = db.Column(db.Integer, db.ForeignKey('user.id'))\n",
    "\n",
    "class WorkoutData(db.Model):\n",
    "    id = db.Column(db.Integer, primary_key=True)\n",
    "    workout_id = db.Column(db.Integer, db.ForeignKey('workout.id'))\n",
    "    movement_id = db.Column(db.Integer, db.ForeignKey('movement.id'))\n",
    "    date = db.Column(db.DateTime(timezone = True), default = func.now)\n",
    "    weight = db.Column(db.Integer, primary_key=True)\n",
    "    reps = db.Column(db.Integer, primary_key=True)\n",
    "    user_id = db.Column(db.Integer, db.ForeignKey('user.id'))\n",
    "\n",
    "class User(db.Model, UserMixin):\n",
    "    id = db.Column(db.Integer, primary_key = True)\n",
    "    email = db.Column(db.String(150), unique = True)\n",
    "    password = db.Column(db.String(150))\n",
    "    first_name = db.Column(db.String(150))\n",
    "    notes = db.relationship('Note')\n",
    "    workouts = db.relationship('Workout')\n",
    "    splits = db.relationship('Split')\n",
    "\n"
   ]
  },
  {
   "cell_type": "code",
   "execution_count": 4,
   "metadata": {},
   "outputs": [],
   "source": [
    "new_user = User(email = 'pranav@gmail.com', password = 'qwertyuiop', first_name = 'pranav')"
   ]
  },
  {
   "cell_type": "code",
   "execution_count": 7,
   "metadata": {},
   "outputs": [
    {
     "data": {
      "text/html": [
       "<div>\n",
       "<style scoped>\n",
       "    .dataframe tbody tr th:only-of-type {\n",
       "        vertical-align: middle;\n",
       "    }\n",
       "\n",
       "    .dataframe tbody tr th {\n",
       "        vertical-align: top;\n",
       "    }\n",
       "\n",
       "    .dataframe thead th {\n",
       "        text-align: right;\n",
       "    }\n",
       "</style>\n",
       "<table border=\"1\" class=\"dataframe\">\n",
       "  <thead>\n",
       "    <tr style=\"text-align: right;\">\n",
       "      <th></th>\n",
       "      <th>Workout Name</th>\n",
       "      <th>Movement Name</th>\n",
       "      <th>Reps</th>\n",
       "      <th>Sets</th>\n",
       "    </tr>\n",
       "  </thead>\n",
       "  <tbody>\n",
       "    <tr>\n",
       "      <th>0</th>\n",
       "      <td>Push Day</td>\n",
       "      <td>Bench Press</td>\n",
       "      <td>5</td>\n",
       "      <td>5</td>\n",
       "    </tr>\n",
       "    <tr>\n",
       "      <th>1</th>\n",
       "      <td>Push Day</td>\n",
       "      <td>Shoulder Press</td>\n",
       "      <td>4</td>\n",
       "      <td>8</td>\n",
       "    </tr>\n",
       "    <tr>\n",
       "      <th>2</th>\n",
       "      <td>Push Day</td>\n",
       "      <td>Tricep Extensions</td>\n",
       "      <td>3</td>\n",
       "      <td>10</td>\n",
       "    </tr>\n",
       "    <tr>\n",
       "      <th>3</th>\n",
       "      <td>Pull Day</td>\n",
       "      <td>Pull Ups</td>\n",
       "      <td>4</td>\n",
       "      <td>8</td>\n",
       "    </tr>\n",
       "    <tr>\n",
       "      <th>4</th>\n",
       "      <td>Pull Day</td>\n",
       "      <td>Barbell Rows</td>\n",
       "      <td>4</td>\n",
       "      <td>6</td>\n",
       "    </tr>\n",
       "    <tr>\n",
       "      <th>5</th>\n",
       "      <td>Pull Day</td>\n",
       "      <td>Bicep Curls</td>\n",
       "      <td>3</td>\n",
       "      <td>10</td>\n",
       "    </tr>\n",
       "    <tr>\n",
       "      <th>6</th>\n",
       "      <td>Leg Day</td>\n",
       "      <td>Squat</td>\n",
       "      <td>5</td>\n",
       "      <td>5</td>\n",
       "    </tr>\n",
       "    <tr>\n",
       "      <th>7</th>\n",
       "      <td>Leg Day</td>\n",
       "      <td>Hamstring Curls</td>\n",
       "      <td>4</td>\n",
       "      <td>8</td>\n",
       "    </tr>\n",
       "    <tr>\n",
       "      <th>8</th>\n",
       "      <td>Leg Day</td>\n",
       "      <td>Calf Raises</td>\n",
       "      <td>3</td>\n",
       "      <td>10</td>\n",
       "    </tr>\n",
       "  </tbody>\n",
       "</table>\n",
       "</div>"
      ],
      "text/plain": [
       "  Workout Name      Movement Name  Reps  Sets\n",
       "0     Push Day        Bench Press     5     5\n",
       "1     Push Day     Shoulder Press     4     8\n",
       "2     Push Day  Tricep Extensions     3    10\n",
       "3     Pull Day           Pull Ups     4     8\n",
       "4     Pull Day       Barbell Rows     4     6\n",
       "5     Pull Day        Bicep Curls     3    10\n",
       "6      Leg Day              Squat     5     5\n",
       "7      Leg Day    Hamstring Curls     4     8\n",
       "8      Leg Day        Calf Raises     3    10"
      ]
     },
     "execution_count": 7,
     "metadata": {},
     "output_type": "execute_result"
    }
   ],
   "source": [
    "test_df = pd.read_csv('workout_splits_1.csv')\n",
    "test_df"
   ]
  },
  {
   "cell_type": "code",
   "execution_count": 8,
   "metadata": {},
   "outputs": [
    {
     "data": {
      "text/plain": [
       "[<Workout (transient 5101930256)>,\n",
       " <Workout (transient 5101552336)>,\n",
       " <Workout (transient 4359248848)>]"
      ]
     },
     "execution_count": 8,
     "metadata": {},
     "output_type": "execute_result"
    }
   ],
   "source": [
    "push_day = Workout(id = 1, \n",
    "                   workout_name = 'Push Day', \n",
    "                   num_movements = 3)\n",
    "\n",
    "pull_day = Workout(id = 2, \n",
    "                   workout_name = 'Pull Day', \n",
    "                   num_movements = 3)\n",
    "\n",
    "leg_day = Workout(id = 3, \n",
    "                   workout_name = 'Leg Day', \n",
    "                   num_movements = 3)\n",
    "\n",
    "workouts = [push_day, pull_day, leg_day]\n",
    "workouts"
   ]
  },
  {
   "cell_type": "code",
   "execution_count": 13,
   "metadata": {},
   "outputs": [],
   "source": [
    "new_user.workouts = workouts"
   ]
  },
  {
   "cell_type": "code",
   "execution_count": 9,
   "metadata": {},
   "outputs": [],
   "source": [
    "count = 1\n",
    "for workout in workouts:\n",
    "    df = test_df[test_df['Workout Name'] == workout.workout_name].reset_index()\n",
    "    movements = []\n",
    "    for i in range(len(df)):\n",
    "        movements.append(Movement(mov_name = df.loc[i]['Movement Name'], \n",
    "                                  reps = df.loc[i]['Reps'], \n",
    "                                  sets = df.loc[i]['Sets'],\n",
    "                                  id = count))\n",
    "    workout.movements = movements\n",
    "    count += 1\n",
    "    "
   ]
  },
  {
   "cell_type": "code",
   "execution_count": 19,
   "metadata": {},
   "outputs": [],
   "source": [
    "workout = new_user.workouts[0]\n",
    "\n",
    "template = pd.DataFrame(columns = ['Movement', 'Weight', 'Reps', 'Set'])\n",
    "count = 0\n",
    "for movement in workout.movements:\n",
    "    for i in range(movement.sets):\n",
    "        template.loc[count] = [movement.mov_name, 0, 0, i]\n",
    "        count += 1\n",
    "template_export = template.to_csv()"
   ]
  },
  {
   "cell_type": "code",
   "execution_count": 34,
   "metadata": {},
   "outputs": [
    {
     "data": {
      "text/plain": [
       "',Movement,Weight,Reps,Set\\n0,Bench Press,0,0,0\\n1,Bench Press,0,0,1\\n2,Bench Press,0,0,2\\n3,Bench Press,0,0,3\\n4,Bench Press,0,0,4\\n5,Shoulder Press,0,0,0\\n6,Shoulder Press,0,0,1\\n7,Shoulder Press,0,0,2\\n8,Shoulder Press,0,0,3\\n9,Shoulder Press,0,0,4\\n10,Shoulder Press,0,0,5\\n11,Shoulder Press,0,0,6\\n12,Shoulder Press,0,0,7\\n13,Tricep Extensions,0,0,0\\n14,Tricep Extensions,0,0,1\\n15,Tricep Extensions,0,0,2\\n16,Tricep Extensions,0,0,3\\n17,Tricep Extensions,0,0,4\\n18,Tricep Extensions,0,0,5\\n19,Tricep Extensions,0,0,6\\n20,Tricep Extensions,0,0,7\\n21,Tricep Extensions,0,0,8\\n22,Tricep Extensions,0,0,9\\n'"
      ]
     },
     "execution_count": 34,
     "metadata": {},
     "output_type": "execute_result"
    }
   ],
   "source": [
    "template_export"
   ]
  },
  {
   "cell_type": "code",
   "execution_count": 20,
   "metadata": {},
   "outputs": [
    {
     "data": {
      "text/plain": [
       "',Movement,Weight,Reps,Set\\n0,Bench Press,0,0,0\\n1,Bench Press,0,0,1\\n2,Bench Press,0,0,2\\n3,Bench Press,0,0,3\\n4,Bench Press,0,0,4\\n5,Shoulder Press,0,0,0\\n6,Shoulder Press,0,0,1\\n7,Shoulder Press,0,0,2\\n8,Shoulder Press,0,0,3\\n9,Shoulder Press,0,0,4\\n10,Shoulder Press,0,0,5\\n11,Shoulder Press,0,0,6\\n12,Shoulder Press,0,0,7\\n13,Tricep Extensions,0,0,0\\n14,Tricep Extensions,0,0,1\\n15,Tricep Extensions,0,0,2\\n16,Tricep Extensions,0,0,3\\n17,Tricep Extensions,0,0,4\\n18,Tricep Extensions,0,0,5\\n19,Tricep Extensions,0,0,6\\n20,Tricep Extensions,0,0,7\\n21,Tricep Extensions,0,0,8\\n22,Tricep Extensions,0,0,9\\n'"
      ]
     },
     "execution_count": 20,
     "metadata": {},
     "output_type": "execute_result"
    }
   ],
   "source": [
    "template_export"
   ]
  },
  {
   "cell_type": "code",
   "execution_count": 22,
   "metadata": {},
   "outputs": [
    {
     "data": {
      "text/html": [
       "<div>\n",
       "<style scoped>\n",
       "    .dataframe tbody tr th:only-of-type {\n",
       "        vertical-align: middle;\n",
       "    }\n",
       "\n",
       "    .dataframe tbody tr th {\n",
       "        vertical-align: top;\n",
       "    }\n",
       "\n",
       "    .dataframe thead th {\n",
       "        text-align: right;\n",
       "    }\n",
       "</style>\n",
       "<table border=\"1\" class=\"dataframe\">\n",
       "  <thead>\n",
       "    <tr style=\"text-align: right;\">\n",
       "      <th></th>\n",
       "      <th>Movement</th>\n",
       "      <th>Weight</th>\n",
       "      <th>Reps</th>\n",
       "      <th>Set</th>\n",
       "    </tr>\n",
       "  </thead>\n",
       "  <tbody>\n",
       "    <tr>\n",
       "      <th>0</th>\n",
       "      <td>Bench Press</td>\n",
       "      <td>135</td>\n",
       "      <td>5</td>\n",
       "      <td>1</td>\n",
       "    </tr>\n",
       "    <tr>\n",
       "      <th>1</th>\n",
       "      <td>Bench Press</td>\n",
       "      <td>145</td>\n",
       "      <td>5</td>\n",
       "      <td>2</td>\n",
       "    </tr>\n",
       "    <tr>\n",
       "      <th>2</th>\n",
       "      <td>Bench Press</td>\n",
       "      <td>155</td>\n",
       "      <td>5</td>\n",
       "      <td>3</td>\n",
       "    </tr>\n",
       "    <tr>\n",
       "      <th>3</th>\n",
       "      <td>Bench Press</td>\n",
       "      <td>160</td>\n",
       "      <td>5</td>\n",
       "      <td>4</td>\n",
       "    </tr>\n",
       "    <tr>\n",
       "      <th>4</th>\n",
       "      <td>Bench Press</td>\n",
       "      <td>165</td>\n",
       "      <td>5</td>\n",
       "      <td>5</td>\n",
       "    </tr>\n",
       "    <tr>\n",
       "      <th>5</th>\n",
       "      <td>Shoulder Press</td>\n",
       "      <td>20</td>\n",
       "      <td>8</td>\n",
       "      <td>1</td>\n",
       "    </tr>\n",
       "    <tr>\n",
       "      <th>6</th>\n",
       "      <td>Shoulder Press</td>\n",
       "      <td>25</td>\n",
       "      <td>8</td>\n",
       "      <td>2</td>\n",
       "    </tr>\n",
       "    <tr>\n",
       "      <th>7</th>\n",
       "      <td>Shoulder Press</td>\n",
       "      <td>30</td>\n",
       "      <td>8</td>\n",
       "      <td>3</td>\n",
       "    </tr>\n",
       "    <tr>\n",
       "      <th>8</th>\n",
       "      <td>Shoulder Press</td>\n",
       "      <td>35</td>\n",
       "      <td>8</td>\n",
       "      <td>4</td>\n",
       "    </tr>\n",
       "    <tr>\n",
       "      <th>9</th>\n",
       "      <td>Tricep Extensions</td>\n",
       "      <td>10</td>\n",
       "      <td>10</td>\n",
       "      <td>1</td>\n",
       "    </tr>\n",
       "    <tr>\n",
       "      <th>10</th>\n",
       "      <td>Tricep Extensions</td>\n",
       "      <td>15</td>\n",
       "      <td>10</td>\n",
       "      <td>2</td>\n",
       "    </tr>\n",
       "    <tr>\n",
       "      <th>11</th>\n",
       "      <td>Tricep Extensions</td>\n",
       "      <td>20</td>\n",
       "      <td>10</td>\n",
       "      <td>3</td>\n",
       "    </tr>\n",
       "  </tbody>\n",
       "</table>\n",
       "</div>"
      ],
      "text/plain": [
       "             Movement  Weight  Reps  Set\n",
       "0         Bench Press     135     5    1\n",
       "1         Bench Press     145     5    2\n",
       "2         Bench Press     155     5    3\n",
       "3         Bench Press     160     5    4\n",
       "4         Bench Press     165     5    5\n",
       "5      Shoulder Press      20     8    1\n",
       "6      Shoulder Press      25     8    2\n",
       "7      Shoulder Press      30     8    3\n",
       "8      Shoulder Press      35     8    4\n",
       "9   Tricep Extensions      10    10    1\n",
       "10  Tricep Extensions      15    10    2\n",
       "11  Tricep Extensions      20    10    3"
      ]
     },
     "execution_count": 22,
     "metadata": {},
     "output_type": "execute_result"
    }
   ],
   "source": [
    "test_data = pd.read_csv('workout_data_1.csv')\n",
    "test_data"
   ]
  },
  {
   "cell_type": "code",
   "execution_count": 29,
   "metadata": {},
   "outputs": [
    {
     "data": {
      "text/plain": [
       "['movement', 'weight', 'reps', 'set']"
      ]
     },
     "execution_count": 29,
     "metadata": {},
     "output_type": "execute_result"
    }
   ],
   "source": [
    "[el.lower() for el in test_data.columns.tolist()]"
   ]
  },
  {
   "cell_type": "code",
   "execution_count": 23,
   "metadata": {},
   "outputs": [],
   "source": [
    "bruh = test_data.loc[0]"
   ]
  },
  {
   "cell_type": "code",
   "execution_count": 30,
   "metadata": {},
   "outputs": [
    {
     "data": {
      "text/plain": [
       "'Bench Press'"
      ]
     },
     "execution_count": 30,
     "metadata": {},
     "output_type": "execute_result"
    }
   ],
   "source": [
    "bruh['Movement']"
   ]
  },
  {
   "cell_type": "code",
   "execution_count": 32,
   "metadata": {},
   "outputs": [
    {
     "data": {
      "text/plain": [
       "True"
      ]
     },
     "execution_count": 32,
     "metadata": {},
     "output_type": "execute_result"
    }
   ],
   "source": [
    "[mov.mov_name for mov in workout.movements] == test_data['Movement'].unique().tolist()"
   ]
  },
  {
   "cell_type": "code",
   "execution_count": 33,
   "metadata": {},
   "outputs": [
    {
     "data": {
      "text/plain": [
       "datetime.datetime(2024, 1, 10, 23, 57, 13, 575533)"
      ]
     },
     "execution_count": 33,
     "metadata": {},
     "output_type": "execute_result"
    }
   ],
   "source": [
    "datetime.now()"
   ]
  },
  {
   "cell_type": "code",
   "execution_count": 35,
   "metadata": {},
   "outputs": [
    {
     "data": {
      "text/plain": [
       "'.csv'"
      ]
     },
     "execution_count": 35,
     "metadata": {},
     "output_type": "execute_result"
    }
   ],
   "source": [
    "ass = 'template.csv'\n",
    "\n",
    "ass[-4:]"
   ]
  }
 ],
 "metadata": {
  "kernelspec": {
   "display_name": "notes_env",
   "language": "python",
   "name": "python3"
  },
  "language_info": {
   "codemirror_mode": {
    "name": "ipython",
    "version": 3
   },
   "file_extension": ".py",
   "mimetype": "text/x-python",
   "name": "python",
   "nbconvert_exporter": "python",
   "pygments_lexer": "ipython3",
   "version": "3.11.3"
  }
 },
 "nbformat": 4,
 "nbformat_minor": 2
}
